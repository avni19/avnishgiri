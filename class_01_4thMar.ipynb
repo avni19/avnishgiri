{
  "nbformat": 4,
  "nbformat_minor": 0,
  "metadata": {
    "colab": {
      "name": "class-01-4thMar.ipynb",
      "provenance": [],
      "collapsed_sections": [],
      "authorship_tag": "ABX9TyMbVCUxY3vgmLFTBNzN1146",
      "include_colab_link": true
    },
    "kernelspec": {
      "name": "python3",
      "display_name": "Python 3"
    }
  },
  "cells": [
    {
      "cell_type": "markdown",
      "metadata": {
        "id": "view-in-github",
        "colab_type": "text"
      },
      "source": [
        "<a href=\"https://colab.research.google.com/github/avni19/avnishgiri/blob/master/class_01_4thMar.ipynb\" target=\"_parent\"><img src=\"https://colab.research.google.com/assets/colab-badge.svg\" alt=\"Open In Colab\"/></a>"
      ]
    },
    {
      "cell_type": "code",
      "metadata": {
        "colab": {
          "base_uri": "https://localhost:8080/"
        },
        "id": "CUiN2d2OV_od",
        "outputId": "fb192835-64e9-421d-9ec4-417cb381cf3b"
      },
      "source": [
        "x = 5\r\n",
        "y = \"John\"\r\n",
        "z=\"India\"\r\n",
        "print(x)"
      ],
      "execution_count": null,
      "outputs": [
        {
          "output_type": "stream",
          "text": [
            "5\n"
          ],
          "name": "stdout"
        }
      ]
    },
    {
      "cell_type": "markdown",
      "metadata": {
        "id": "TBkoM8Mwcr8B"
      },
      "source": [
        "**Python - **\r\n",
        "Variable, datatype, list, tuple, set, dictionary"
      ]
    },
    {
      "cell_type": "code",
      "metadata": {
        "colab": {
          "base_uri": "https://localhost:8080/"
        },
        "id": "Eltzq2QvYSN4",
        "outputId": "37215350-40bc-4462-9e76-6c8f8638782f"
      },
      "source": [
        "print(x, '\\n', y,z)"
      ],
      "execution_count": null,
      "outputs": [
        {
          "output_type": "stream",
          "text": [
            "5 \n",
            " John India\n"
          ],
          "name": "stdout"
        }
      ]
    },
    {
      "cell_type": "code",
      "metadata": {
        "colab": {
          "base_uri": "https://localhost:8080/"
        },
        "id": "ehGgUE2ZYZM_",
        "outputId": "13f0864f-8386-49ff-ceb1-445e4433a8fc"
      },
      "source": [
        "print(x,y,z, sep='\\n')"
      ],
      "execution_count": null,
      "outputs": [
        {
          "output_type": "stream",
          "text": [
            "5\n",
            "John\n",
            "India\n"
          ],
          "name": "stdout"
        }
      ]
    },
    {
      "cell_type": "code",
      "metadata": {
        "colab": {
          "base_uri": "https://localhost:8080/"
        },
        "id": "C3T3RixoZJjl",
        "outputId": "15eda48e-855c-4241-ee7b-466c8dde115a"
      },
      "source": [
        "print(type(z))"
      ],
      "execution_count": null,
      "outputs": [
        {
          "output_type": "stream",
          "text": [
            "<class 'str'>\n"
          ],
          "name": "stdout"
        }
      ]
    },
    {
      "cell_type": "code",
      "metadata": {
        "colab": {
          "base_uri": "https://localhost:8080/"
        },
        "id": "pbiB54aGZY3N",
        "outputId": "51a55238-1a32-4312-b57b-0b3ef81c29fc"
      },
      "source": [
        "a = 1,2,3,4\r\n",
        "print(a)\r\n",
        "print(type(a))"
      ],
      "execution_count": null,
      "outputs": [
        {
          "output_type": "stream",
          "text": [
            "(1, 2, 3, 4)\n",
            "<class 'tuple'>\n"
          ],
          "name": "stdout"
        }
      ]
    },
    {
      "cell_type": "code",
      "metadata": {
        "colab": {
          "base_uri": "https://localhost:8080/"
        },
        "id": "AK58d9WgZqYc",
        "outputId": "1f509b5d-bd80-4364-c354-ebf52301dc76"
      },
      "source": [
        "a= \"A\",\"B\",\"C\"\r\n",
        "print(a)\r\n",
        "print(type(a))"
      ],
      "execution_count": null,
      "outputs": [
        {
          "output_type": "stream",
          "text": [
            "('A', 'B', 'C')\n",
            "<class 'tuple'>\n"
          ],
          "name": "stdout"
        }
      ]
    },
    {
      "cell_type": "code",
      "metadata": {
        "id": "Ybb4IK8-ZuoB"
      },
      "source": [
        ""
      ],
      "execution_count": null,
      "outputs": []
    },
    {
      "cell_type": "markdown",
      "metadata": {
        "id": "NSzawOYaZ9HT"
      },
      "source": [
        "List\r\n",
        "Lists are used to store multiple items in a single variable.\r\n",
        "mutable\r\n"
      ]
    },
    {
      "cell_type": "code",
      "metadata": {
        "colab": {
          "base_uri": "https://localhost:8080/"
        },
        "id": "GNhwqp4pZ-vk",
        "outputId": "38c7f282-ca41-4fc3-f00c-5d19172cb2fd"
      },
      "source": [
        "  a = [ ]\r\n",
        "  print(type(a))"
      ],
      "execution_count": null,
      "outputs": [
        {
          "output_type": "stream",
          "text": [
            "<class 'list'>\n"
          ],
          "name": "stdout"
        }
      ]
    },
    {
      "cell_type": "code",
      "metadata": {
        "colab": {
          "base_uri": "https://localhost:8080/"
        },
        "id": "DsIt-9fpaCW5",
        "outputId": "4e83d2c7-1688-46d0-9789-a0104c4cb0fa"
      },
      "source": [
        "a=['a','b','c','d','e',4,5,6,\"Avnish\",]\r\n",
        "print(a)"
      ],
      "execution_count": null,
      "outputs": [
        {
          "output_type": "stream",
          "text": [
            "['a', 'b', 'c', 'd', 'e', 4, 5, 6, 'Avnish']\n"
          ],
          "name": "stdout"
        }
      ]
    },
    {
      "cell_type": "code",
      "metadata": {
        "colab": {
          "base_uri": "https://localhost:8080/"
        },
        "id": "N12Ycx1IbKIF",
        "outputId": "a45c76c3-0076-4560-d714-8199dc62a1b9"
      },
      "source": [
        "a=[\"aan\",\"baan\",\"shaan\"]\r\n",
        "print(a)\r\n",
        "a.append(\"kaan\")\r\n",
        "print(a)\r\n",
        "a.insert(0,\"jaan\")\r\n",
        "print(a)"
      ],
      "execution_count": null,
      "outputs": [
        {
          "output_type": "stream",
          "text": [
            "['aan', 'baan', 'shaan']\n",
            "['aan', 'baan', 'shaan', 'kaan']\n",
            "['jaan', 'aan', 'baan', 'shaan', 'kaan']\n"
          ],
          "name": "stdout"
        }
      ]
    },
    {
      "cell_type": "code",
      "metadata": {
        "colab": {
          "base_uri": "https://localhost:8080/"
        },
        "id": "zUzBH_Qmcx8S",
        "outputId": "ac058720-1b1c-4f4e-9c16-d0cb92705e66"
      },
      "source": [
        "a=[\"anda\",\"besan\",\"murga\",\"nandini\"]\r\n",
        "print(len(a))\r\n"
      ],
      "execution_count": null,
      "outputs": [
        {
          "output_type": "stream",
          "text": [
            "4\n"
          ],
          "name": "stdout"
        }
      ]
    },
    {
      "cell_type": "code",
      "metadata": {
        "colab": {
          "base_uri": "https://localhost:8080/"
        },
        "id": "ltDfI3UDaT8r",
        "outputId": "0a8555e7-664b-449d-8865-b8999364a996"
      },
      "source": [
        "a[0:9]"
      ],
      "execution_count": null,
      "outputs": [
        {
          "output_type": "execute_result",
          "data": {
            "text/plain": [
              "['a', 'b', 'c', 'd', 'e', 4, 5, 6, 'Avnish']"
            ]
          },
          "metadata": {
            "tags": []
          },
          "execution_count": 36
        }
      ]
    },
    {
      "cell_type": "code",
      "metadata": {
        "colab": {
          "base_uri": "https://localhost:8080/"
        },
        "id": "THgZcfvwayi4",
        "outputId": "f6efd113-de06-4b0e-924a-65d866888f6f"
      },
      "source": [
        "len(a)"
      ],
      "execution_count": null,
      "outputs": [
        {
          "output_type": "execute_result",
          "data": {
            "text/plain": [
              "9"
            ]
          },
          "metadata": {
            "tags": []
          },
          "execution_count": 37
        }
      ]
    },
    {
      "cell_type": "code",
      "metadata": {
        "id": "GisweePid3kf"
      },
      "source": [
        ""
      ],
      "execution_count": null,
      "outputs": []
    },
    {
      "cell_type": "code",
      "metadata": {
        "colab": {
          "base_uri": "https://localhost:8080/",
          "height": 37
        },
        "id": "Gh69mPf3a2oY",
        "outputId": "6b3bd7b1-4257-45b5-b4e7-7ca266777d43"
      },
      "source": [
        "a[8]"
      ],
      "execution_count": null,
      "outputs": [
        {
          "output_type": "execute_result",
          "data": {
            "application/vnd.google.colaboratory.intrinsic+json": {
              "type": "string"
            },
            "text/plain": [
              "'Avnish'"
            ]
          },
          "metadata": {
            "tags": []
          },
          "execution_count": 43
        }
      ]
    },
    {
      "cell_type": "code",
      "metadata": {
        "id": "cuuSFL8za5SL",
        "colab": {
          "base_uri": "https://localhost:8080/"
        },
        "outputId": "dd13a520-037c-44b6-c343-a6b69fae5438"
      },
      "source": [
        "thislist = [\"apple\", \"banana\", \"cherry\", \"orange\", \"kiwi\", \"melon\", \"mango\"]\r\n",
        "print(thislist[-4:-1])"
      ],
      "execution_count": 1,
      "outputs": [
        {
          "output_type": "stream",
          "text": [
            "['orange', 'kiwi', 'melon']\n"
          ],
          "name": "stdout"
        }
      ]
    },
    {
      "cell_type": "code",
      "metadata": {
        "id": "TU0bOZWQduZg",
        "colab": {
          "base_uri": "https://localhost:8080/"
        },
        "outputId": "f54a4c3c-6ea0-4d35-cce6-3ba41941f569"
      },
      "source": [
        "thislist = [\"apple\", \"banana\", \"cherry\"]\r\n",
        "if \"apple\" in thislist:\r\n",
        "  print(\"Yes, 'apple' is in the fruits list\")\r\n"
      ],
      "execution_count": 2,
      "outputs": [
        {
          "output_type": "stream",
          "text": [
            "Yes, 'apple' is in the fruits list\n"
          ],
          "name": "stdout"
        }
      ]
    },
    {
      "cell_type": "code",
      "metadata": {
        "colab": {
          "base_uri": "https://localhost:8080/"
        },
        "id": "c777T0t-KHBV",
        "outputId": "8e47acea-917b-4514-9c13-21a13307c20c"
      },
      "source": [
        "thislist = [\"apple\", \"banana\", \"cherry\"]\r\n",
        "thislist[1:2] = [\"blackcurrant\", \"watermelon\"]\r\n",
        "print(thislist)"
      ],
      "execution_count": 3,
      "outputs": [
        {
          "output_type": "stream",
          "text": [
            "['apple', 'blackcurrant', 'watermelon', 'cherry']\n"
          ],
          "name": "stdout"
        }
      ]
    },
    {
      "cell_type": "code",
      "metadata": {
        "colab": {
          "base_uri": "https://localhost:8080/"
        },
        "id": "YwciBPwjKNMa",
        "outputId": "21cc2043-ec2f-457d-cf06-1bb142b33ac4"
      },
      "source": [
        "thislist = [\"apple\", \"banana\", \"cherry\"]\r\n",
        "tropical = [\"mango\", \"pineapple\", \"papaya\"]\r\n",
        "thislist.extend(tropical)\r\n",
        "print(thislist)"
      ],
      "execution_count": 4,
      "outputs": [
        {
          "output_type": "stream",
          "text": [
            "['apple', 'banana', 'cherry', 'mango', 'pineapple', 'papaya']\n"
          ],
          "name": "stdout"
        }
      ]
    },
    {
      "cell_type": "code",
      "metadata": {
        "colab": {
          "base_uri": "https://localhost:8080/"
        },
        "id": "wAnCFw3CKTC6",
        "outputId": "1413017e-dc3f-48ed-81d4-c3dbdb1ac907"
      },
      "source": [
        "thislist = [\"apple\", \"banana\", \"cherry\"]\r\n",
        "thistuple = (\"kiwi\", \"orange\")\r\n",
        "thislist.extend(thistuple)\r\n",
        "print(thislist)"
      ],
      "execution_count": 5,
      "outputs": [
        {
          "output_type": "stream",
          "text": [
            "['apple', 'banana', 'cherry', 'kiwi', 'orange']\n"
          ],
          "name": "stdout"
        }
      ]
    },
    {
      "cell_type": "code",
      "metadata": {
        "colab": {
          "base_uri": "https://localhost:8080/"
        },
        "id": "ooSRbQTzKZmo",
        "outputId": "b4019d4d-1a8f-4866-acf8-54b797401e18"
      },
      "source": [
        "thislist = [\"apple\", \"banana\", \"cherry\"]\r\n",
        "del thislist[0]\r\n",
        "print(thislist)"
      ],
      "execution_count": 6,
      "outputs": [
        {
          "output_type": "stream",
          "text": [
            "['banana', 'cherry']\n"
          ],
          "name": "stdout"
        }
      ]
    },
    {
      "cell_type": "code",
      "metadata": {
        "colab": {
          "base_uri": "https://localhost:8080/",
          "height": 206
        },
        "id": "ywoTaup-LqlZ",
        "outputId": "5439ec49-d089-4279-bdad-db7b50930ae7"
      },
      "source": [
        "thislist = [\"apple\", \"banana\", \"cherry\"]\r\n",
        "del thislist\r\n",
        "print(thislist)"
      ],
      "execution_count": 9,
      "outputs": [
        {
          "output_type": "error",
          "ename": "NameError",
          "evalue": "ignored",
          "traceback": [
            "\u001b[0;31m---------------------------------------------------------------------------\u001b[0m",
            "\u001b[0;31mNameError\u001b[0m                                 Traceback (most recent call last)",
            "\u001b[0;32m<ipython-input-9-4b9c960a30eb>\u001b[0m in \u001b[0;36m<module>\u001b[0;34m()\u001b[0m\n\u001b[1;32m      1\u001b[0m \u001b[0mthislist\u001b[0m \u001b[0;34m=\u001b[0m \u001b[0;34m[\u001b[0m\u001b[0;34m\"apple\"\u001b[0m\u001b[0;34m,\u001b[0m \u001b[0;34m\"banana\"\u001b[0m\u001b[0;34m,\u001b[0m \u001b[0;34m\"cherry\"\u001b[0m\u001b[0;34m]\u001b[0m\u001b[0;34m\u001b[0m\u001b[0;34m\u001b[0m\u001b[0m\n\u001b[1;32m      2\u001b[0m \u001b[0;32mdel\u001b[0m \u001b[0mthislist\u001b[0m\u001b[0;34m\u001b[0m\u001b[0;34m\u001b[0m\u001b[0m\n\u001b[0;32m----> 3\u001b[0;31m \u001b[0mprint\u001b[0m\u001b[0;34m(\u001b[0m\u001b[0mthislist\u001b[0m\u001b[0;34m)\u001b[0m\u001b[0;34m\u001b[0m\u001b[0;34m\u001b[0m\u001b[0m\n\u001b[0m",
            "\u001b[0;31mNameError\u001b[0m: name 'thislist' is not defined"
          ]
        }
      ]
    },
    {
      "cell_type": "code",
      "metadata": {
        "colab": {
          "base_uri": "https://localhost:8080/"
        },
        "id": "XU5XwyIJLt9i",
        "outputId": "b184ef8e-001a-4701-d838-f3f9ba481144"
      },
      "source": [
        "thislist = [\"apple\", \"banana\", \"cherry\"]\r\n",
        "thislist.clear()\r\n",
        "print(thislist)"
      ],
      "execution_count": 10,
      "outputs": [
        {
          "output_type": "stream",
          "text": [
            "[]\n"
          ],
          "name": "stdout"
        }
      ]
    },
    {
      "cell_type": "code",
      "metadata": {
        "colab": {
          "base_uri": "https://localhost:8080/"
        },
        "id": "vFslLiKaL1Ky",
        "outputId": "cbaf874a-621e-43e3-c5cc-074769d71a55"
      },
      "source": [
        "thislist = [\"apple\", \"banana\", \"cherry\"]\r\n",
        "for i in range(len(thislist)):\r\n",
        "  print(thislist[i])"
      ],
      "execution_count": 11,
      "outputs": [
        {
          "output_type": "stream",
          "text": [
            "apple\n",
            "banana\n",
            "cherry\n"
          ],
          "name": "stdout"
        }
      ]
    },
    {
      "cell_type": "code",
      "metadata": {
        "colab": {
          "base_uri": "https://localhost:8080/"
        },
        "id": "xO9bmuPxL5my",
        "outputId": "294260db-0a8f-4c9e-fa80-f97013f23b15"
      },
      "source": [
        "thislist = [\"apple\", \"banana\", \"cherry\"]\r\n",
        "i = 0\r\n",
        "while i < len(thislist):\r\n",
        "  print(thislist[i])\r\n",
        "  i = i + 1\r\n",
        "  "
      ],
      "execution_count": 12,
      "outputs": [
        {
          "output_type": "stream",
          "text": [
            "apple\n",
            "banana\n",
            "cherry\n"
          ],
          "name": "stdout"
        }
      ]
    },
    {
      "cell_type": "code",
      "metadata": {
        "id": "XDlSyFy4L8xP"
      },
      "source": [
        "#A short hand for loop that will print all items in a list:\r\n",
        "thislist = [\"apple\", \"banana\", \"cherry\"]\r\n"
      ],
      "execution_count": 15,
      "outputs": []
    },
    {
      "cell_type": "code",
      "metadata": {
        "colab": {
          "base_uri": "https://localhost:8080/"
        },
        "id": "BP3ZG7GrMhyQ",
        "outputId": "87343346-1b41-42e5-f5b0-49f35700dd08"
      },
      "source": [
        "[print(x) for x in thislist]"
      ],
      "execution_count": 16,
      "outputs": [
        {
          "output_type": "stream",
          "text": [
            "apple\n",
            "banana\n",
            "cherry\n"
          ],
          "name": "stdout"
        },
        {
          "output_type": "execute_result",
          "data": {
            "text/plain": [
              "[None, None, None]"
            ]
          },
          "metadata": {
            "tags": []
          },
          "execution_count": 16
        }
      ]
    },
    {
      "cell_type": "code",
      "metadata": {
        "id": "n9tYt21aNDmv"
      },
      "source": [
        ""
      ],
      "execution_count": null,
      "outputs": []
    },
    {
      "cell_type": "markdown",
      "metadata": {
        "id": "xTp6oKRZNNvb"
      },
      "source": [
        "List Comprehension\r\n",
        "List comprehension offers a shorter syntax when you want to create a new list based on the values of an existing list."
      ]
    },
    {
      "cell_type": "code",
      "metadata": {
        "colab": {
          "base_uri": "https://localhost:8080/"
        },
        "id": "MLlHq4MmNOcF",
        "outputId": "ad27215d-4e7a-47b7-95a6-1411bb4793b8"
      },
      "source": [
        "fruits = [\"apple\", \"banana\", \"cherry\", \"kiwi\", \"mango\"]\r\n",
        "newlist = []\r\n",
        "\r\n",
        "for x in fruits:\r\n",
        "  if \"a\" in x:\r\n",
        "    newlist.append(x)\r\n",
        "\r\n",
        "print(newlist)"
      ],
      "execution_count": 17,
      "outputs": [
        {
          "output_type": "stream",
          "text": [
            "['apple', 'banana', 'mango']\n"
          ],
          "name": "stdout"
        }
      ]
    },
    {
      "cell_type": "markdown",
      "metadata": {
        "id": "ee9kE8ZSOUC4"
      },
      "source": [
        "With list comprehension you can do all that with only one line of code:"
      ]
    },
    {
      "cell_type": "code",
      "metadata": {
        "colab": {
          "base_uri": "https://localhost:8080/"
        },
        "id": "ZL4wlh4aOKCO",
        "outputId": "f3a0bab5-29cc-4839-d5a7-8bf974aad128"
      },
      "source": [
        "fruits = [\"apple\", \"banana\", \"cherry\", \"kiwi\", \"mango\"]\r\n",
        "\r\n",
        "newlist = [x for x in fruits if \"a\" in x]\r\n",
        "\r\n",
        "print(newlist)"
      ],
      "execution_count": 18,
      "outputs": [
        {
          "output_type": "stream",
          "text": [
            "['apple', 'banana', 'mango']\n"
          ],
          "name": "stdout"
        }
      ]
    },
    {
      "cell_type": "code",
      "metadata": {
        "colab": {
          "base_uri": "https://localhost:8080/"
        },
        "id": "hp8N8K96OSDh",
        "outputId": "11c7fb28-a482-4907-f80d-797dbfbd3f79"
      },
      "source": [
        "newlist = [x for x in range(10)]\r\n",
        "newlist"
      ],
      "execution_count": 20,
      "outputs": [
        {
          "output_type": "execute_result",
          "data": {
            "text/plain": [
              "[0, 1, 2, 3, 4, 5, 6, 7, 8, 9]"
            ]
          },
          "metadata": {
            "tags": []
          },
          "execution_count": 20
        }
      ]
    },
    {
      "cell_type": "code",
      "metadata": {
        "colab": {
          "base_uri": "https://localhost:8080/"
        },
        "id": "2nrijFDJOkSb",
        "outputId": "835d17f1-1ff9-401c-e750-ee029511232e"
      },
      "source": [
        "newlist = [x for x in range(10) if x /2 >2]\r\n",
        "newlist"
      ],
      "execution_count": 25,
      "outputs": [
        {
          "output_type": "execute_result",
          "data": {
            "text/plain": [
              "[5, 6, 7, 8, 9]"
            ]
          },
          "metadata": {
            "tags": []
          },
          "execution_count": 25
        }
      ]
    },
    {
      "cell_type": "code",
      "metadata": {
        "colab": {
          "base_uri": "https://localhost:8080/"
        },
        "id": "DXLt55mePTMs",
        "outputId": "79a30178-c7d5-4c6a-e3ea-c8b773b2713c"
      },
      "source": [
        "thislist = [\"orange\", \"mango\", \"kiwi\", \"pineapple\", \"banana\"]\r\n",
        "a=[1,2,3,4,5,0,11,17,99,12,14]\r\n",
        "thislist.sort()\r\n",
        "a.sort()\r\n",
        "print(a)\r\n",
        "print(thislist)"
      ],
      "execution_count": 29,
      "outputs": [
        {
          "output_type": "stream",
          "text": [
            "[0, 1, 2, 3, 4, 5, 11, 12, 14, 17, 99]\n",
            "['banana', 'kiwi', 'mango', 'orange', 'pineapple']\n"
          ],
          "name": "stdout"
        }
      ]
    },
    {
      "cell_type": "code",
      "metadata": {
        "colab": {
          "base_uri": "https://localhost:8080/"
        },
        "id": "prMLPQXWPo2U",
        "outputId": "85153e3f-d37d-4d42-8b16-0140674018d8"
      },
      "source": [
        "thislist = [\"banana\", \"Orange\", \"Kiwi\", \"cherry\"]\r\n",
        "thislist.reverse()\r\n",
        "print(thislist)"
      ],
      "execution_count": 30,
      "outputs": [
        {
          "output_type": "stream",
          "text": [
            "['cherry', 'Kiwi', 'Orange', 'banana']\n"
          ],
          "name": "stdout"
        }
      ]
    },
    {
      "cell_type": "code",
      "metadata": {
        "colab": {
          "base_uri": "https://localhost:8080/"
        },
        "id": "Q8h_Z6O7QARg",
        "outputId": "c5e86da1-e2d4-4579-fc74-6df29b3ec565"
      },
      "source": [
        "thislist = [\"banana\", \"Orange\", \"Kiwi\", \"cherry\"]\r\n",
        "thislist.sort(key = str.lower)\r\n",
        "print(thislist)"
      ],
      "execution_count": 31,
      "outputs": [
        {
          "output_type": "stream",
          "text": [
            "['banana', 'cherry', 'Kiwi', 'Orange']\n"
          ],
          "name": "stdout"
        }
      ]
    },
    {
      "cell_type": "code",
      "metadata": {
        "colab": {
          "base_uri": "https://localhost:8080/"
        },
        "id": "Ko55TZT_QDYx",
        "outputId": "b7f85848-030d-47e9-a6f3-f3c2a935dd14"
      },
      "source": [
        "def myfunc(n):\r\n",
        "  return abs(n - 50)\r\n",
        "\r\n",
        "thislist = [100, 50, 65, 82, 23]\r\n",
        "thislist.sort(key = myfunc)\r\n",
        "print(thislist)"
      ],
      "execution_count": 33,
      "outputs": [
        {
          "output_type": "stream",
          "text": [
            "[50, 65, 23, 82, 100]\n"
          ],
          "name": "stdout"
        }
      ]
    },
    {
      "cell_type": "markdown",
      "metadata": {
        "id": "OA7V1rnaQgdw"
      },
      "source": [
        "Make a copy of a list with the copy() method:"
      ]
    },
    {
      "cell_type": "code",
      "metadata": {
        "colab": {
          "base_uri": "https://localhost:8080/"
        },
        "id": "FH6VPLPvQIGc",
        "outputId": "0e2b4c66-8e98-4cf8-af64-892e475ecd75"
      },
      "source": [
        "\r\n",
        "\r\n",
        "thislist = [\"apple\", \"banana\", \"cherry\"]\r\n",
        "mylist = thislist.copy()\r\n",
        "print(mylist)"
      ],
      "execution_count": 34,
      "outputs": [
        {
          "output_type": "stream",
          "text": [
            "['apple', 'banana', 'cherry']\n"
          ],
          "name": "stdout"
        }
      ]
    },
    {
      "cell_type": "code",
      "metadata": {
        "colab": {
          "base_uri": "https://localhost:8080/"
        },
        "id": "5Ejrf4B8QhZG",
        "outputId": "93fa003e-fd9f-461d-ea09-0e30a83ecdc7"
      },
      "source": [
        "list1 = [\"a\", \"b\", \"c\"]\r\n",
        "list2 = [1, 2, 3]\r\n",
        "\r\n",
        "list3 = list1 + list2\r\n",
        "print(list3)"
      ],
      "execution_count": 35,
      "outputs": [
        {
          "output_type": "stream",
          "text": [
            "['a', 'b', 'c', 1, 2, 3]\n"
          ],
          "name": "stdout"
        }
      ]
    },
    {
      "cell_type": "code",
      "metadata": {
        "id": "YB4P4TvKTluD"
      },
      "source": [
        ""
      ],
      "execution_count": null,
      "outputs": []
    },
    {
      "cell_type": "markdown",
      "metadata": {
        "id": "Z0Gcv8jbTr6t"
      },
      "source": [
        "List Methods\r\n",
        "Python has a set of built-in methods that you can use on lists.\r\n",
        "\r\n",
        "Method\tDescription\r\n",
        "append()\tAdds an element at the end of the list\r\n",
        "\r\n",
        "clear()\tRemoves all the elements from the list\r\n",
        "\r\n",
        "copy()\tReturns a copy of the list\r\n",
        "\r\n",
        "count()\tReturns the number of elements with the specified value\r\n",
        "\r\n",
        "extend()\tAdd the elements of a list (or any iterable), to the end of the current list\r\n",
        "\r\n",
        "\r\n",
        "index()\tReturns the index of the first element with the specified value\r\n",
        "\r\n",
        "insert()\tAdds an element at the specified position\r\n",
        "\r\n",
        "pop()\tRemoves the element at the specified position\r\n",
        "\r\n",
        "remove()\tRemoves the item with the specified value\r\n",
        "\r\n",
        "reverse()\tReverses the order of the list\r\n",
        "\r\n",
        "sort()\tSorts the list"
      ]
    },
    {
      "cell_type": "code",
      "metadata": {
        "colab": {
          "base_uri": "https://localhost:8080/"
        },
        "id": "0e52pVxuTsdk",
        "outputId": "f9007444-3dfe-4d5c-8c3f-f8614275d55c"
      },
      "source": [
        "thistuple = (\"apple\", \"banana\", \"cherry\",1,2,3, \"aa\")\r\n",
        "print(thistuple)\r\n",
        "print(type(thistuple))"
      ],
      "execution_count": 38,
      "outputs": [
        {
          "output_type": "stream",
          "text": [
            "('apple', 'banana', 'cherry', 1, 2, 3, 'aa')\n",
            "<class 'tuple'>\n"
          ],
          "name": "stdout"
        }
      ]
    },
    {
      "cell_type": "markdown",
      "metadata": {
        "id": "79Rfau10Vpdb"
      },
      "source": [
        "Tuple\r\n",
        "Tuples are used to store multiple items in a single variable."
      ]
    },
    {
      "cell_type": "markdown",
      "metadata": {
        "id": "PRLWgv-5WG90"
      },
      "source": [
        "Ordered\r\n",
        "When we say that tuples are ordered, \r\n",
        "it means that the items have a defined order, and that order will not change.\r\n",
        "\r\n",
        "Unchangeable\r\n",
        "Tuples are unchangeable, meaning that we cannot change, add or remove items after the tuple has been created.\r\n",
        "\r\n",
        "Allow Duplicates\r\n",
        "Since tuple are indexed, tuples can have items with the same value:"
      ]
    },
    {
      "cell_type": "code",
      "metadata": {
        "colab": {
          "base_uri": "https://localhost:8080/"
        },
        "id": "Xp6w-cA2VqHC",
        "outputId": "bb3c951b-55bd-4a39-a9e3-3fdfd83f4cc4"
      },
      "source": [
        "#Access tupe items\r\n",
        "thistuple = (\"apple\", \"banana\", \"cherry\")\r\n",
        "print(thistuple[1])"
      ],
      "execution_count": 39,
      "outputs": [
        {
          "output_type": "stream",
          "text": [
            "banana\n"
          ],
          "name": "stdout"
        }
      ]
    },
    {
      "cell_type": "code",
      "metadata": {
        "colab": {
          "base_uri": "https://localhost:8080/"
        },
        "id": "9ycIpR2hWRDe",
        "outputId": "a98992e3-aed6-4944-b84f-4706da1f69bb"
      },
      "source": [
        "print(len(thistuple))"
      ],
      "execution_count": 42,
      "outputs": [
        {
          "output_type": "stream",
          "text": [
            "3\n"
          ],
          "name": "stdout"
        }
      ]
    },
    {
      "cell_type": "code",
      "metadata": {
        "id": "ow28R-JHWT-w"
      },
      "source": [
        ""
      ],
      "execution_count": null,
      "outputs": []
    },
    {
      "cell_type": "markdown",
      "metadata": {
        "id": "Uy_OnpslWmZi"
      },
      "source": [
        "**List** is a collection which is ordered and changeable. Allows duplicate members.\r\n",
        "**Tuple** is a collection which is ordered and unchangeable. Allows duplicate members.\r\n",
        "**Set** is a collection which is unordered and unindexed. No duplicate members.\r\n",
        "**Dictionary ** is a collection which is unordered and changeable. No duplicate members.\r\n",
        "\r\n",
        "\r\n"
      ]
    },
    {
      "cell_type": "code",
      "metadata": {
        "colab": {
          "base_uri": "https://localhost:8080/"
        },
        "id": "QeoIB4m3XBEC",
        "outputId": "57174be8-6350-452c-ad0e-f0c0cf2df149"
      },
      "source": [
        "#Change Tuple Values\r\n",
        "#Once a tuple is created, you cannot change its values. Tuples are unchangeable, or immutable as it also is called.\r\n",
        "#But there is a workaround. You can convert the tuple into a list, change the list, and convert the list back into a tuple\r\n",
        "\r\n",
        "x = (\"apple\", \"banana\", \"indrani\")\r\n",
        "y = list(x)\r\n",
        "y[1] = \"avnish\"\r\n",
        "x = tuple(y)\r\n",
        "\r\n",
        "print(x)"
      ],
      "execution_count": 44,
      "outputs": [
        {
          "output_type": "stream",
          "text": [
            "('apple', 'avnish', 'indrani')\n"
          ],
          "name": "stdout"
        }
      ]
    },
    {
      "cell_type": "code",
      "metadata": {
        "id": "YquTY7edXEHd"
      },
      "source": [
        "#similary , we cant use append, remove, delete , clear function in case of tuple, if it is needed, first we have to convert it into list , then perform these operation and again convert list to tuple"
      ],
      "execution_count": 45,
      "outputs": []
    },
    {
      "cell_type": "code",
      "metadata": {
        "colab": {
          "base_uri": "https://localhost:8080/"
        },
        "id": "hZlxv8mWXlJG",
        "outputId": "03a13b8e-4d03-45c7-9a0f-a894ff87126e"
      },
      "source": [
        "#But, in Python, we are also allowed to extract the values back into variables. This is called \"unpacking\":\r\n",
        "fruits = (\"apple\", \"banana\", \"cherry\")\r\n",
        "\r\n",
        "(green, yellow, *red) = fruits\r\n",
        "\r\n",
        "print(green)\r\n",
        "print(yellow)\r\n",
        "print(red)"
      ],
      "execution_count": 47,
      "outputs": [
        {
          "output_type": "stream",
          "text": [
            "apple\n",
            "banana\n",
            "['cherry']\n"
          ],
          "name": "stdout"
        }
      ]
    },
    {
      "cell_type": "code",
      "metadata": {
        "id": "Ty7wag7HXwlk"
      },
      "source": [
        ""
      ],
      "execution_count": null,
      "outputs": []
    },
    {
      "cell_type": "markdown",
      "metadata": {
        "id": "jnOQLwl4ZuYU"
      },
      "source": [
        "Set\r\n",
        "Sets are used to store multiple items in a single variable.\r\n",
        "\r\n",
        "Set is one of 4 built-in data types in Python used to store collections of data, the other 3 are List, Tuple, and Dictionary, all with different qualities and usage.\r\n",
        "\r\n",
        "A set is a collection which is both unordered and unindexed.\r\n",
        "\r\n",
        "Sets are written with curly brackets."
      ]
    },
    {
      "cell_type": "code",
      "metadata": {
        "colab": {
          "base_uri": "https://localhost:8080/"
        },
        "id": "AvXaBAFUZu4G",
        "outputId": "9639ed47-f8f9-40b3-feb9-fee102270fd0"
      },
      "source": [
        "thisset = {\"apple\", \"banana\", \"cherry\"}\r\n",
        "print(thisset)"
      ],
      "execution_count": 48,
      "outputs": [
        {
          "output_type": "stream",
          "text": [
            "{'apple', 'banana', 'cherry'}\n"
          ],
          "name": "stdout"
        }
      ]
    },
    {
      "cell_type": "code",
      "metadata": {
        "colab": {
          "base_uri": "https://localhost:8080/"
        },
        "id": "l61q5En6ZxxB",
        "outputId": "0c700e6b-fe64-4a5f-de98-3b9408abe03d"
      },
      "source": [
        "thisset = {\"apple\", \"banana\", \"cherry\", \"apple\"}\r\n",
        "\r\n",
        "print(thisset)"
      ],
      "execution_count": 49,
      "outputs": [
        {
          "output_type": "stream",
          "text": [
            "{'apple', 'banana', 'cherry'}\n"
          ],
          "name": "stdout"
        }
      ]
    },
    {
      "cell_type": "code",
      "metadata": {
        "colab": {
          "base_uri": "https://localhost:8080/"
        },
        "id": "1Dp4BLY-Z0ef",
        "outputId": "6ea57176-9ca1-41ce-c5ff-ccec926f7f5d"
      },
      "source": [
        "#accessing the set\r\n",
        "thisset = {\"apple\", \"banana\", \"cherry\"}\r\n",
        "\r\n",
        "for x in thisset:\r\n",
        "  print(x)"
      ],
      "execution_count": 50,
      "outputs": [
        {
          "output_type": "stream",
          "text": [
            "apple\n",
            "banana\n",
            "cherry\n"
          ],
          "name": "stdout"
        }
      ]
    },
    {
      "cell_type": "code",
      "metadata": {
        "colab": {
          "base_uri": "https://localhost:8080/"
        },
        "id": "htOqttWFZ5vE",
        "outputId": "ddecc9e5-6c54-4ec6-88f1-a62ca2252a51"
      },
      "source": [
        "\r\n",
        "thisset.add(\"orange\")\r\n",
        "\r\n",
        "print(thisset)"
      ],
      "execution_count": 51,
      "outputs": [
        {
          "output_type": "stream",
          "text": [
            "{'orange', 'apple', 'banana', 'cherry'}\n"
          ],
          "name": "stdout"
        }
      ]
    },
    {
      "cell_type": "code",
      "metadata": {
        "colab": {
          "base_uri": "https://localhost:8080/"
        },
        "id": "tNSekUMbZ-a2",
        "outputId": "180cb03b-af04-48ed-9846-ad5e6d11fbd0"
      },
      "source": [
        "thisset = {\"apple\", \"banana\", \"cherry\"}\r\n",
        "tropical = {\"pineapple\", \"mango\", \"papaya\"}\r\n",
        "\r\n",
        "thisset.update(tropical)\r\n",
        "\r\n",
        "print(thisset)"
      ],
      "execution_count": 52,
      "outputs": [
        {
          "output_type": "stream",
          "text": [
            "{'mango', 'apple', 'banana', 'pineapple', 'papaya', 'cherry'}\n"
          ],
          "name": "stdout"
        }
      ]
    },
    {
      "cell_type": "code",
      "metadata": {
        "colab": {
          "base_uri": "https://localhost:8080/"
        },
        "id": "KTJSqGMqaDCk",
        "outputId": "2c24a2f3-1205-40f9-848c-ddc80293a6d0"
      },
      "source": [
        "thisset = {\"apple\", \"banana\", \"cherry\"}\r\n",
        "mylist = [\"kiwi\", \"orange\"]\r\n",
        "\r\n",
        "thisset.update(mylist)\r\n",
        "\r\n",
        "print(thisset)"
      ],
      "execution_count": 53,
      "outputs": [
        {
          "output_type": "stream",
          "text": [
            "{'apple', 'banana', 'orange', 'kiwi', 'cherry'}\n"
          ],
          "name": "stdout"
        }
      ]
    },
    {
      "cell_type": "code",
      "metadata": {
        "colab": {
          "base_uri": "https://localhost:8080/"
        },
        "id": "NM2e374daLXH",
        "outputId": "c185e08e-ea5a-43bf-f2ca-c8b6ed8ca816"
      },
      "source": [
        "thisset = {\"apple\", \"banana\", \"cherry\"}\r\n",
        "\r\n",
        "thisset.remove(\"banana\")\r\n",
        "\r\n",
        "print(thisset)"
      ],
      "execution_count": 54,
      "outputs": [
        {
          "output_type": "stream",
          "text": [
            "{'apple', 'cherry'}\n"
          ],
          "name": "stdout"
        }
      ]
    },
    {
      "cell_type": "code",
      "metadata": {
        "colab": {
          "base_uri": "https://localhost:8080/"
        },
        "id": "8bBiWwgVaTcD",
        "outputId": "6817afc7-a843-4591-99cc-55847d8d6137"
      },
      "source": [
        "thisset = {\"apple\", \"banana\", \"cherry\"}\r\n",
        "\r\n",
        "for x in thisset:\r\n",
        "  print(x)"
      ],
      "execution_count": 55,
      "outputs": [
        {
          "output_type": "stream",
          "text": [
            "apple\n",
            "banana\n",
            "cherry\n"
          ],
          "name": "stdout"
        }
      ]
    },
    {
      "cell_type": "code",
      "metadata": {
        "colab": {
          "base_uri": "https://localhost:8080/"
        },
        "id": "DmLXEf9EadMf",
        "outputId": "94592931-a4b2-4155-df74-777f137442bf"
      },
      "source": [
        "x = {\"apple\", \"banana\", \"cherry\"}\r\n",
        "y = {\"google\", \"microsoft\", \"apple\"}\r\n",
        "\r\n",
        "x.symmetric_difference_update(y)\r\n",
        "\r\n",
        "print(x)"
      ],
      "execution_count": 56,
      "outputs": [
        {
          "output_type": "stream",
          "text": [
            "{'google', 'banana', 'microsoft', 'cherry'}\n"
          ],
          "name": "stdout"
        }
      ]
    },
    {
      "cell_type": "code",
      "metadata": {
        "id": "VyZcnxHCat5V"
      },
      "source": [
        ""
      ],
      "execution_count": null,
      "outputs": []
    },
    {
      "cell_type": "markdown",
      "metadata": {
        "id": "l9_vbztQbQty"
      },
      "source": [
        "Dictionary\r\n",
        "Dictionaries are used to store data values in key:value pairs.\r\n",
        "\r\n",
        "A dictionary is a collection which is ordered*, changeable and does not allow duplicates."
      ]
    },
    {
      "cell_type": "code",
      "metadata": {
        "colab": {
          "base_uri": "https://localhost:8080/"
        },
        "id": "wEFhbHS0bRN5",
        "outputId": "dca11e5e-de38-40bc-85b8-603a2bf25935"
      },
      "source": [
        "thisdict = {\r\n",
        "  \"brand\": \"Ford\",\r\n",
        "  \"model\": \"Mustang\",\r\n",
        "  \"year\": 1964\r\n",
        "}\r\n",
        "print(thisdict)"
      ],
      "execution_count": 57,
      "outputs": [
        {
          "output_type": "stream",
          "text": [
            "{'brand': 'Ford', 'model': 'Mustang', 'year': 1964}\n"
          ],
          "name": "stdout"
        }
      ]
    },
    {
      "cell_type": "code",
      "metadata": {
        "colab": {
          "base_uri": "https://localhost:8080/"
        },
        "id": "1pTcJG9ebTe6",
        "outputId": "2f7f03b5-4daa-44ba-b5fb-8aa5c1181813"
      },
      "source": [
        "thisdict = {\r\n",
        "  \"brand\": \"Ford\",\r\n",
        "  \"model\": \"Mustang\",\r\n",
        "  \"year\": 1964\r\n",
        "}\r\n",
        "print(thisdict[\"brand\"])"
      ],
      "execution_count": 58,
      "outputs": [
        {
          "output_type": "stream",
          "text": [
            "Ford\n"
          ],
          "name": "stdout"
        }
      ]
    },
    {
      "cell_type": "code",
      "metadata": {
        "colab": {
          "base_uri": "https://localhost:8080/"
        },
        "id": "oVkYqSdEbWSP",
        "outputId": "4e9dd7bf-b2dc-4626-a0bf-0c6b76b11717"
      },
      "source": [
        "x = thisdict.keys()\r\n",
        "print(x)"
      ],
      "execution_count": 60,
      "outputs": [
        {
          "output_type": "stream",
          "text": [
            "dict_keys(['brand', 'model', 'year'])\n"
          ],
          "name": "stdout"
        }
      ]
    },
    {
      "cell_type": "code",
      "metadata": {
        "colab": {
          "base_uri": "https://localhost:8080/"
        },
        "id": "eRGFpufZbhpc",
        "outputId": "a6916636-bbb3-4539-eb72-d1b5f778d16d"
      },
      "source": [
        "car = {\r\n",
        "\"brand\": \"Ford\",\r\n",
        "\"model\": \"Mustang\",\r\n",
        "\"year\": 1964\r\n",
        "}\r\n",
        "\r\n",
        "x = car.keys()\r\n",
        "\r\n",
        "print(x) #before the change\r\n",
        "\r\n",
        "car[\"color\"] = \"white\"\r\n",
        "\r\n",
        "print(x) #after the change"
      ],
      "execution_count": 61,
      "outputs": [
        {
          "output_type": "stream",
          "text": [
            "dict_keys(['brand', 'model', 'year'])\n",
            "dict_keys(['brand', 'model', 'year', 'color'])\n"
          ],
          "name": "stdout"
        }
      ]
    },
    {
      "cell_type": "code",
      "metadata": {
        "colab": {
          "base_uri": "https://localhost:8080/"
        },
        "id": "xApYnzpEbnmS",
        "outputId": "77c034d8-f350-44db-e505-7ae424ebaeaf"
      },
      "source": [
        "x = thisdict.values()\r\n",
        "x"
      ],
      "execution_count": 63,
      "outputs": [
        {
          "output_type": "execute_result",
          "data": {
            "text/plain": [
              "dict_values(['Ford', 'Mustang', 1964])"
            ]
          },
          "metadata": {
            "tags": []
          },
          "execution_count": 63
        }
      ]
    },
    {
      "cell_type": "code",
      "metadata": {
        "id": "Czj9-RnRbva_"
      },
      "source": [
        ""
      ],
      "execution_count": null,
      "outputs": []
    }
  ]
}