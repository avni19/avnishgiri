{
  "nbformat": 4,
  "nbformat_minor": 0,
  "metadata": {
    "colab": {
      "name": "Class-02-5thMarch.ipynb",
      "provenance": [],
      "authorship_tag": "ABX9TyPlSJvtxf+a0DkvK34C6NXB",
      "include_colab_link": true
    },
    "kernelspec": {
      "name": "python3",
      "display_name": "Python 3"
    }
  },
  "cells": [
    {
      "cell_type": "markdown",
      "metadata": {
        "id": "view-in-github",
        "colab_type": "text"
      },
      "source": [
        "<a href=\"https://colab.research.google.com/github/avni19/avnishgiri/blob/master/Class_02_5thMarch.ipynb\" target=\"_parent\"><img src=\"https://colab.research.google.com/assets/colab-badge.svg\" alt=\"Open In Colab\"/></a>"
      ]
    },
    {
      "cell_type": "code",
      "metadata": {
        "id": "hg9H7a5kc750"
      },
      "source": [
        "a = 33\r\n",
        "b = 30\r\n",
        "if b > a:\r\n",
        "  print(\"b is greater than a\")\r\n",
        "elif a == b:\r\n",
        "  print(\"a and b are equal\")"
      ],
      "execution_count": 3,
      "outputs": []
    },
    {
      "cell_type": "code",
      "metadata": {
        "id": "sj_oL1N_c8xP"
      },
      "source": [
        ""
      ],
      "execution_count": null,
      "outputs": []
    },
    {
      "cell_type": "markdown",
      "metadata": {
        "id": "ohz46genc9lN"
      },
      "source": [
        "Loop- Python Functions- Lambda function"
      ]
    },
    {
      "cell_type": "code",
      "metadata": {
        "colab": {
          "base_uri": "https://localhost:8080/"
        },
        "id": "3lIKqrh-dC1r",
        "outputId": "f5af8cd4-b05c-4331-df52-59003566e554"
      },
      "source": [
        "a = 200\r\n",
        "b = 33\r\n",
        "if b > a:\r\n",
        "  print(\"b is greater than a\")\r\n",
        "elif a == b:\r\n",
        "  print(\"a and b are equal\")\r\n",
        "else:\r\n",
        "  print(\"a is greater than b\")"
      ],
      "execution_count": 2,
      "outputs": [
        {
          "output_type": "stream",
          "text": [
            "a is greater than b\n"
          ],
          "name": "stdout"
        }
      ]
    },
    {
      "cell_type": "code",
      "metadata": {
        "colab": {
          "base_uri": "https://localhost:8080/"
        },
        "id": "Nua3FyyydFpd",
        "outputId": "f778b8b4-2d55-4d1d-b621-6761dfeb806d"
      },
      "source": [
        "#short hand if\r\n",
        "a=12\r\n",
        "b=13\r\n",
        "print(\"a is greater than b\") if a> b else print(\"b is greater than a\")"
      ],
      "execution_count": 8,
      "outputs": [
        {
          "output_type": "stream",
          "text": [
            "b is greater than a\n"
          ],
          "name": "stdout"
        }
      ]
    },
    {
      "cell_type": "code",
      "metadata": {
        "colab": {
          "base_uri": "https://localhost:8080/"
        },
        "id": "j5PjLsnkdOcP",
        "outputId": "2273bdad-9cc9-428b-811c-dbbe1dc2549a"
      },
      "source": [
        "#statemnet with 3 conditon\r\n",
        "a=331\r\n",
        "b = 330\r\n",
        "print(\"A\") if a > b else print(\"=\") if a == b else print(\"B\")"
      ],
      "execution_count": 11,
      "outputs": [
        {
          "output_type": "stream",
          "text": [
            "A\n"
          ],
          "name": "stdout"
        }
      ]
    },
    {
      "cell_type": "code",
      "metadata": {
        "colab": {
          "base_uri": "https://localhost:8080/"
        },
        "id": "dumk6mLQdnWy",
        "outputId": "6f2f11f9-414d-45a1-93e1-f21ebd81e73d"
      },
      "source": [
        "#AND\r\n",
        "a = 200\r\n",
        "b = 33\r\n",
        "c = 500\r\n",
        "if a > b and c > a:\r\n",
        "  print(\"Both conditions are True\")"
      ],
      "execution_count": 12,
      "outputs": [
        {
          "output_type": "stream",
          "text": [
            "Both conditions are True\n"
          ],
          "name": "stdout"
        }
      ]
    },
    {
      "cell_type": "code",
      "metadata": {
        "colab": {
          "base_uri": "https://localhost:8080/"
        },
        "id": "3jLB-iG0dw4I",
        "outputId": "e6a34342-6f06-4aa2-9965-8aa5773d689e"
      },
      "source": [
        "#OR\r\n",
        "a = 200\r\n",
        "b = 33\r\n",
        "c = 500\r\n",
        "if a > b or a > c:\r\n",
        "  print(\"At least one of the conditions is True\")"
      ],
      "execution_count": 13,
      "outputs": [
        {
          "output_type": "stream",
          "text": [
            "At least one of the conditions is True\n"
          ],
          "name": "stdout"
        }
      ]
    },
    {
      "cell_type": "code",
      "metadata": {
        "colab": {
          "base_uri": "https://localhost:8080/"
        },
        "id": "Z3nkl8USdz7c",
        "outputId": "670a2f43-0c19-4823-d97c-ec1fd0a55561"
      },
      "source": [
        "x = 41\r\n",
        "\r\n",
        "if x > 10:\r\n",
        "  print(\"Above ten,\")\r\n",
        "  if x > 20:\r\n",
        "    print(\"and also above 20!\")\r\n",
        "  else:\r\n",
        "    print(\"but not above 20.\")"
      ],
      "execution_count": 14,
      "outputs": [
        {
          "output_type": "stream",
          "text": [
            "Above ten,\n",
            "and also above 20!\n"
          ],
          "name": "stdout"
        }
      ]
    },
    {
      "cell_type": "markdown",
      "metadata": {
        "id": "O6iKwJU9d6BF"
      },
      "source": [
        "The pass Statement\r\n",
        "if statements cannot be empty, but if you for some reason have an if statement with no content, put in the pass statement to avoid getting an error."
      ]
    },
    {
      "cell_type": "code",
      "metadata": {
        "colab": {
          "base_uri": "https://localhost:8080/"
        },
        "id": "_zb8Rc8Fd1_A",
        "outputId": "332ef4f2-d75a-4916-e84e-273654310deb"
      },
      "source": [
        "a = 33\r\n",
        "b = 20\r\n",
        "\r\n",
        "if b > a:\r\n",
        "  pass\r\n",
        "else:\r\n",
        "  print(a)"
      ],
      "execution_count": 17,
      "outputs": [
        {
          "output_type": "stream",
          "text": [
            "33\n"
          ],
          "name": "stdout"
        }
      ]
    },
    {
      "cell_type": "markdown",
      "metadata": {
        "id": "oT7mjpu1eHmy"
      },
      "source": [
        "The while Loop\r\n",
        "\r\n",
        "\r\n",
        "With the while loop we can execute a set of statements as long as a condition is true."
      ]
    },
    {
      "cell_type": "code",
      "metadata": {
        "colab": {
          "base_uri": "https://localhost:8080/"
        },
        "id": "1K1-1XETd9ah",
        "outputId": "33db413e-5a4b-4958-99ad-f31259cbe369"
      },
      "source": [
        "i = 1\r\n",
        "while i < 6:\r\n",
        "  print(i)\r\n",
        "  i += 1"
      ],
      "execution_count": 18,
      "outputs": [
        {
          "output_type": "stream",
          "text": [
            "1\n",
            "2\n",
            "3\n",
            "4\n",
            "5\n"
          ],
          "name": "stdout"
        }
      ]
    },
    {
      "cell_type": "code",
      "metadata": {
        "colab": {
          "base_uri": "https://localhost:8080/"
        },
        "id": "h3EamFPaeK-1",
        "outputId": "a281b64f-f1f6-470d-f5c7-8cac4ccf878e"
      },
      "source": [
        "i = 1\r\n",
        "while i < 6:\r\n",
        "  print(i)\r\n",
        "  if i == 3:\r\n",
        "    break\r\n",
        "  i += 1"
      ],
      "execution_count": 19,
      "outputs": [
        {
          "output_type": "stream",
          "text": [
            "1\n",
            "2\n",
            "3\n"
          ],
          "name": "stdout"
        }
      ]
    },
    {
      "cell_type": "code",
      "metadata": {
        "colab": {
          "base_uri": "https://localhost:8080/"
        },
        "id": "f6n6xdJOeNkU",
        "outputId": "aade2ea9-6cae-49cb-941c-6b85d93cdcb4"
      },
      "source": [
        "i = 0\r\n",
        "while i < 6:\r\n",
        "  i += 1\r\n",
        "  if i == 3:\r\n",
        "    continue\r\n",
        "  print(i)"
      ],
      "execution_count": 20,
      "outputs": [
        {
          "output_type": "stream",
          "text": [
            "1\n",
            "2\n",
            "4\n",
            "5\n",
            "6\n"
          ],
          "name": "stdout"
        }
      ]
    },
    {
      "cell_type": "code",
      "metadata": {
        "colab": {
          "base_uri": "https://localhost:8080/"
        },
        "id": "WxVJZb_meRTq",
        "outputId": "11387a39-398c-456e-9163-857af797aeab"
      },
      "source": [
        "i = 1\r\n",
        "while i < 6:\r\n",
        "  print(i)\r\n",
        "  i += 1\r\n",
        "else:\r\n",
        "  print(\"i is no longer less than 6\")"
      ],
      "execution_count": 21,
      "outputs": [
        {
          "output_type": "stream",
          "text": [
            "1\n",
            "2\n",
            "3\n",
            "4\n",
            "5\n",
            "i is no longer less than 6\n"
          ],
          "name": "stdout"
        }
      ]
    },
    {
      "cell_type": "code",
      "metadata": {
        "id": "Y2e9nx_AeTjL"
      },
      "source": [
        ""
      ],
      "execution_count": null,
      "outputs": []
    }
  ]
}